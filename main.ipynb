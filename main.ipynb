{
 "cells": [
  {
   "metadata": {},
   "cell_type": "markdown",
   "source": "# Белки",
   "id": "4218055b1d760be5"
  },
  {
   "metadata": {},
   "cell_type": "markdown",
   "source": "## настройка зависимостей",
   "id": "8735b0268aec7768"
  },
  {
   "metadata": {
    "ExecuteTime": {
     "end_time": "2024-06-04T22:41:40.914012Z",
     "start_time": "2024-06-04T22:41:40.897555Z"
    }
   },
   "cell_type": "code",
   "source": [
    "%load_ext autoreload\n",
    "%autoreload 2"
   ],
   "id": "e0f448c74f0688d6",
   "outputs": [],
   "execution_count": 1
  },
  {
   "metadata": {
    "ExecuteTime": {
     "end_time": "2024-06-05T20:45:05.217080Z",
     "start_time": "2024-06-05T20:45:05.171657Z"
    }
   },
   "cell_type": "code",
   "source": [
    "from protein_model import ProteinModel\n",
    "from statistics_functions import (run_statistics, save_statistics,\n",
    "                                  plot_heat_capacity_vs_temperature, plot_energy_vs_temperature)"
   ],
   "id": "f9a1fe23c6fd6c74",
   "outputs": [],
   "execution_count": 72
  },
  {
   "metadata": {},
   "cell_type": "markdown",
   "source": "## Симуляция",
   "id": "16b3fd2e5096dcb1"
  },
  {
   "metadata": {
    "jupyter": {
     "is_executing": true
    },
    "ExecuteTime": {
     "start_time": "2024-06-05T23:07:24.249851Z"
    }
   },
   "cell_type": "code",
   "source": [
    "# Создание экземпляра модели и запуск симуляции\n",
    "model = ProteinModel(4)\n",
    "model.run_simulation(num_steps=200, save_video=True)\n",
    "model.plot_energy()"
   ],
   "id": "9e0673996f46fb70",
   "outputs": [
    {
     "name": "stdout",
     "output_type": "stream",
     "text": [
      "Начало симуляции с количеством шагов: 200\n"
     ]
    },
    {
     "name": "stderr",
     "output_type": "stream",
     "text": [
      "Cимуляция процесса:   0%|\u001B[92m          \u001B[0m| 1/200 [00:01<05:58,  1.80s/it]"
     ]
    }
   ],
   "execution_count": null
  },
  {
   "metadata": {
    "ExecuteTime": {
     "end_time": "2024-06-05T12:34:03.910677Z",
     "start_time": "2024-06-05T11:07:21.292620Z"
    }
   },
   "cell_type": "code",
   "source": [
    "# Создание экземпляра модели и запуск симуляции\n",
    "model = ProteinModel(300, temperature=300, mode='random')\n",
    "model.run_simulation(num_steps=50, save_video=True)\n",
    "model.plot_energy()"
   ],
   "id": "b5e9e3518b6f729d",
   "outputs": [
    {
     "name": "stdout",
     "output_type": "stream",
     "text": [
      "Начало симуляции с количеством шагов: 50\n"
     ]
    },
    {
     "name": "stderr",
     "output_type": "stream",
     "text": [
      "Cимуляция процесса: 100%|\u001B[92m██████████\u001B[0m| 50/50 [1:26:40<00:00, 104.01s/it]\n"
     ]
    },
    {
     "name": "stdout",
     "output_type": "stream",
     "text": [
      "Видео сохранено в videos/simulation_2024-06-05_15-34-01.mp4\n"
     ]
    },
    {
     "data": {
      "text/plain": [
       "<Figure size 720x432 with 1 Axes>"
      ],
      "image/png": "[encoded data removed]"
     },
     "metadata": {
      "needs_background": "light"
     },
     "output_type": "display_data"
    }
   ],
   "execution_count": 21
  },
  {
   "metadata": {
    "ExecuteTime": {
     "end_time": "2024-06-05T18:47:36.958229Z",
     "start_time": "2024-06-05T18:47:36.928346Z"
    }
   },
   "cell_type": "code",
   "source": [
    "av_en, c = model.calculate_statistics()\n",
    "print(av_en, c)"
   ],
   "id": "60483a37d6fbed5a",
   "outputs": [
    {
     "name": "stdout",
     "output_type": "stream",
     "text": [
      "324351.27028108016 5.39955397896826e+29\n"
     ]
    }
   ],
   "execution_count": 24
  },
  {
   "metadata": {
    "ExecuteTime": {
     "end_time": "2024-06-05T23:04:10.694761Z",
     "start_time": "2024-06-05T22:58:56.328630Z"
    }
   },
   "cell_type": "code",
   "source": "temperatures, heat_cap, avg_energies = run_statistics(range(273 + 20, 273 + 80, 1), 3)",
   "id": "cbe4733001de0325",
   "outputs": [
    {
     "name": "stderr",
     "output_type": "stream",
     "text": [
      "Ход процесса:   0%|          | 0/60 [00:00<?, ?it/s]"
     ]
    },
    {
     "name": "stdout",
     "output_type": "stream",
     "text": [
      "Начало симуляции с количеством шагов: 100\n",
      "Начало симуляции с количеством шагов: 100\n",
      "Начало симуляции с количеством шагов: 100\n",
      "Начало симуляции с количеством шагов: 100\n",
      "Начало симуляции с количеством шагов: 100\n",
      "Начало симуляции с количеством шагов: 100\n"
     ]
    },
    {
     "name": "stderr",
     "output_type": "stream",
     "text": [
      "Cимуляция процесса: 100%|\u001B[92m██████████\u001B[0m| 100/100 [00:32<00:00,  3.10it/s]\n",
      "Cимуляция процесса:   0%|\u001B[92m          \u001B[0m| 0/100 [00:00<?, ?it/s]3.69it/s]"
     ]
    },
    {
     "name": "stdout",
     "output_type": "stream",
     "text": [
      "Начало симуляции с количеством шагов: 100\n",
      "Начало симуляции с количеством шагов: 100\n"
     ]
    },
    {
     "name": "stderr",
     "output_type": "stream",
     "text": [
      "Cимуляция процесса: 100%|\u001B[92m██████████\u001B[0m| 100/100 [00:32<00:00,  3.09it/s]\n",
      "Cимуляция процесса: 100%|\u001B[92m██████████\u001B[0m| 100/100 [00:32<00:00,  3.08it/s]\n",
      "Cимуляция процесса: 100%|\u001B[92m██████████\u001B[0m| 100/100 [00:32<00:00,  3.07it/s]\n",
      "Cимуляция процесса:  98%|\u001B[92m█████████▊\u001B[0m| 98/100 [00:32<00:00,  3.52it/s]"
     ]
    },
    {
     "name": "stdout",
     "output_type": "stream",
     "text": [
      "Начало симуляции с количеством шагов: 100\n",
      "Начало симуляции с количеством шагов: 100\n"
     ]
    },
    {
     "name": "stderr",
     "output_type": "stream",
     "text": [
      "Cимуляция процесса: 100%|\u001B[92m██████████\u001B[0m| 100/100 [00:33<00:00,  3.01it/s]\n",
      "Cимуляция процесса: 100%|\u001B[92m██████████\u001B[0m| 100/100 [00:33<00:00,  3.01it/s]\n",
      "Cимуляция процесса:   0%|\u001B[92m          \u001B[0m| 0/100 [00:00<?, ?it/s].11it/s]"
     ]
    },
    {
     "name": "stdout",
     "output_type": "stream",
     "text": [
      "Начало симуляции с количеством шагов: 100\n",
      "Начало симуляции с количеством шагов: 100\n"
     ]
    },
    {
     "name": "stderr",
     "output_type": "stream",
     "text": [
      "Cимуляция процесса: 100%|\u001B[92m██████████\u001B[0m| 100/100 [00:28<00:00,  3.47it/s]\n",
      "Cимуляция процесса: 100%|\u001B[92m██████████\u001B[0m| 100/100 [00:29<00:00,  3.44it/s]\n",
      "Cимуляция процесса:  95%|\u001B[92m█████████▌\u001B[0m| 95/100 [00:28<00:01,  2.96it/s]"
     ]
    },
    {
     "name": "stdout",
     "output_type": "stream",
     "text": [
      "Начало симуляции с количеством шагов: 100\n",
      "Начало симуляции с количеством шагов: 100\n"
     ]
    },
    {
     "name": "stderr",
     "output_type": "stream",
     "text": [
      "Cимуляция процесса: 100%|\u001B[92m██████████\u001B[0m| 100/100 [00:29<00:00,  3.39it/s]\n",
      "Cимуляция процесса: 100%|\u001B[92m██████████\u001B[0m| 100/100 [00:29<00:00,  3.39it/s]\n",
      "Cимуляция процесса:  98%|\u001B[92m█████████▊\u001B[0m| 98/100 [00:29<00:00,  3.28it/s]"
     ]
    },
    {
     "name": "stdout",
     "output_type": "stream",
     "text": [
      "Начало симуляции с количеством шагов: 100\n",
      "Начало симуляции с количеством шагов: 100\n"
     ]
    },
    {
     "name": "stderr",
     "output_type": "stream",
     "text": [
      "Cимуляция процесса: 100%|\u001B[92m██████████\u001B[0m| 100/100 [00:29<00:00,  3.40it/s]\n",
      "Cимуляция процесса: 100%|\u001B[92m██████████\u001B[0m| 100/100 [00:29<00:00,  3.38it/s]\n",
      "Ход процесса:  20%|██        | 12/60 [01:05<01:58,  2.46s/it]"
     ]
    },
    {
     "name": "stdout",
     "output_type": "stream",
     "text": [
      "Начало симуляции с количеством шагов: 100\n",
      "Начало симуляции с количеством шагов: 100\n"
     ]
    },
    {
     "name": "stderr",
     "output_type": "stream",
     "text": [
      "Cимуляция процесса: 100%|\u001B[92m██████████\u001B[0m| 100/100 [00:27<00:00,  3.65it/s]\n",
      "Cимуляция процесса: 100%|\u001B[92m██████████\u001B[0m| 100/100 [00:27<00:00,  3.63it/s]\n",
      "Cимуляция процесса:   0%|\u001B[92m          \u001B[0m| 0/100 [00:00<?, ?it/s]"
     ]
    },
    {
     "name": "stdout",
     "output_type": "stream",
     "text": [
      "Начало симуляции с количеством шагов: 100\n",
      "Начало симуляции с количеством шагов: 100\n"
     ]
    },
    {
     "name": "stderr",
     "output_type": "stream",
     "text": [
      "Cимуляция процесса: 100%|\u001B[92m██████████\u001B[0m| 100/100 [00:27<00:00,  3.62it/s]\n",
      "Cимуляция процесса: 100%|\u001B[92m██████████\u001B[0m| 100/100 [00:27<00:00,  3.60it/s]\n",
      "Ход процесса:  27%|██▋       | 16/60 [01:32<02:53,  3.93s/it]"
     ]
    },
    {
     "name": "stdout",
     "output_type": "stream",
     "text": [
      "Начало симуляции с количеством шагов: 100\n",
      "Начало симуляции с количеством шагов: 100\n"
     ]
    },
    {
     "name": "stderr",
     "output_type": "stream",
     "text": [
      "Cимуляция процесса: 100%|\u001B[92m██████████\u001B[0m| 100/100 [00:27<00:00,  3.60it/s]\n",
      "Cимуляция процесса:   7%|\u001B[92m▋         \u001B[0m| 7/100 [00:01<00:23,  3.91it/s]]"
     ]
    },
    {
     "name": "stdout",
     "output_type": "stream",
     "text": [
      "Начало симуляции с количеством шагов: 100\n"
     ]
    },
    {
     "name": "stderr",
     "output_type": "stream",
     "text": [
      "Cимуляция процесса: 100%|\u001B[92m██████████\u001B[0m| 100/100 [00:27<00:00,  3.59it/s]\n",
      "Cимуляция процесса:   8%|\u001B[92m▊         \u001B[0m| 8/100 [00:02<00:22,  4.05it/s]"
     ]
    },
    {
     "name": "stdout",
     "output_type": "stream",
     "text": [
      "Начало симуляции с количеством шагов: 100\n"
     ]
    },
    {
     "name": "stderr",
     "output_type": "stream",
     "text": [
      "Cимуляция процесса: 100%|\u001B[92m██████████\u001B[0m| 100/100 [00:30<00:00,  3.29it/s]\n",
      "Cимуляция процесса: 100%|\u001B[92m██████████\u001B[0m| 100/100 [00:30<00:00,  3.27it/s]\n",
      "Cимуляция процесса:  94%|\u001B[92m█████████▍\u001B[0m| 94/100 [00:29<00:01,  3.13it/s]"
     ]
    },
    {
     "name": "stdout",
     "output_type": "stream",
     "text": [
      "Начало симуляции с количеством шагов: 100\n",
      "Начало симуляции с количеством шагов: 100\n"
     ]
    },
    {
     "name": "stderr",
     "output_type": "stream",
     "text": [
      "Cимуляция процесса: 100%|\u001B[92m██████████\u001B[0m| 100/100 [00:31<00:00,  3.17it/s]\n",
      "Cимуляция процесса:  97%|\u001B[92m█████████▋\u001B[0m| 97/100 [00:31<00:01,  2.82it/s]"
     ]
    },
    {
     "name": "stdout",
     "output_type": "stream",
     "text": [
      "Начало симуляции с количеством шагов: 100\n"
     ]
    },
    {
     "name": "stderr",
     "output_type": "stream",
     "text": [
      "Cимуляция процесса: 100%|\u001B[92m██████████\u001B[0m| 100/100 [00:31<00:00,  3.13it/s]\n",
      "Cимуляция процесса:   8%|\u001B[92m▊         \u001B[0m| 8/100 [00:02<00:29,  3.15it/s]"
     ]
    },
    {
     "name": "stdout",
     "output_type": "stream",
     "text": [
      "Начало симуляции с количеством шагов: 100\n"
     ]
    },
    {
     "name": "stderr",
     "output_type": "stream",
     "text": [
      "Cимуляция процесса: 100%|\u001B[92m██████████\u001B[0m| 100/100 [00:31<00:00,  3.13it/s]\n",
      "Cимуляция процесса:   9%|\u001B[92m▉         \u001B[0m| 9/100 [00:03<00:27,  3.30it/s]]"
     ]
    },
    {
     "name": "stdout",
     "output_type": "stream",
     "text": [
      "Начало симуляции с количеством шагов: 100\n"
     ]
    },
    {
     "name": "stderr",
     "output_type": "stream",
     "text": [
      "Cимуляция процесса: 100%|\u001B[92m██████████\u001B[0m| 100/100 [00:32<00:00,  3.12it/s]\n",
      "Cимуляция процесса:   0%|\u001B[92m          \u001B[0m| 0/100 [00:00<?, ?it/s]"
     ]
    },
    {
     "name": "stdout",
     "output_type": "stream",
     "text": [
      "Начало симуляции с количеством шагов: 100\n"
     ]
    },
    {
     "name": "stderr",
     "output_type": "stream",
     "text": [
      "Cимуляция процесса: 100%|\u001B[92m██████████\u001B[0m| 100/100 [00:31<00:00,  3.20it/s]\n",
      "Cимуляция процесса:  92%|\u001B[92m█████████▏\u001B[0m| 92/100 [00:28<00:02,  2.96it/s]"
     ]
    },
    {
     "name": "stdout",
     "output_type": "stream",
     "text": [
      "Начало симуляции с количеством шагов: 100\n"
     ]
    },
    {
     "name": "stderr",
     "output_type": "stream",
     "text": [
      "Cимуляция процесса: 100%|\u001B[92m██████████\u001B[0m| 100/100 [00:31<00:00,  3.16it/s]\n",
      "Cимуляция процесса:  94%|\u001B[92m█████████▍\u001B[0m| 94/100 [00:29<00:01,  3.41it/s]"
     ]
    },
    {
     "name": "stdout",
     "output_type": "stream",
     "text": [
      "Начало симуляции с количеством шагов: 100\n"
     ]
    },
    {
     "name": "stderr",
     "output_type": "stream",
     "text": [
      "Cимуляция процесса: 100%|\u001B[92m██████████\u001B[0m| 100/100 [00:30<00:00,  3.23it/s]\n",
      "Cимуляция процесса:  97%|\u001B[92m█████████▋\u001B[0m| 97/100 [00:30<00:00,  4.08it/s]"
     ]
    },
    {
     "name": "stdout",
     "output_type": "stream",
     "text": [
      "Начало симуляции с количеством шагов: 100\n"
     ]
    },
    {
     "name": "stderr",
     "output_type": "stream",
     "text": [
      "Cимуляция процесса: 100%|\u001B[92m██████████\u001B[0m| 100/100 [00:30<00:00,  3.25it/s]\n",
      "Cимуляция процесса:   2%|\u001B[92m▏         \u001B[0m| 2/100 [00:00<00:26,  3.74it/s]]"
     ]
    },
    {
     "name": "stdout",
     "output_type": "stream",
     "text": [
      "Начало симуляции с количеством шагов: 100\n"
     ]
    },
    {
     "name": "stderr",
     "output_type": "stream",
     "text": [
      "Cимуляция процесса: 100%|\u001B[92m██████████\u001B[0m| 100/100 [00:30<00:00,  3.24it/s]\n",
      "Cимуляция процесса:   0%|\u001B[92m          \u001B[0m| 0/100 [00:00<?, ?it/s]"
     ]
    },
    {
     "name": "stdout",
     "output_type": "stream",
     "text": [
      "Начало симуляции с количеством шагов: 100\n"
     ]
    },
    {
     "name": "stderr",
     "output_type": "stream",
     "text": [
      "Cимуляция процесса: 100%|\u001B[92m██████████\u001B[0m| 100/100 [00:31<00:00,  3.21it/s]\n"
     ]
    },
    {
     "name": "stdout",
     "output_type": "stream",
     "text": [
      "Начало симуляции с количеством шагов: 100\n"
     ]
    },
    {
     "name": "stderr",
     "output_type": "stream",
     "text": [
      "Cимуляция процесса: 100%|\u001B[92m██████████\u001B[0m| 100/100 [00:29<00:00,  3.35it/s]\n",
      "Cимуляция процесса:  91%|\u001B[92m█████████ \u001B[0m| 91/100 [00:28<00:02,  3.58it/s]"
     ]
    },
    {
     "name": "stdout",
     "output_type": "stream",
     "text": [
      "Начало симуляции с количеством шагов: 100\n"
     ]
    },
    {
     "name": "stderr",
     "output_type": "stream",
     "text": [
      "Cимуляция процесса: 100%|\u001B[92m██████████\u001B[0m| 100/100 [00:29<00:00,  3.36it/s]\n",
      "Cимуляция процесса:  89%|\u001B[92m████████▉ \u001B[0m| 89/100 [00:27<00:02,  3.72it/s]"
     ]
    },
    {
     "name": "stdout",
     "output_type": "stream",
     "text": [
      "Начало симуляции с количеством шагов: 100\n"
     ]
    },
    {
     "name": "stderr",
     "output_type": "stream",
     "text": [
      "Cимуляция процесса: 100%|\u001B[92m██████████\u001B[0m| 100/100 [00:30<00:00,  3.23it/s]\n",
      "Cимуляция процесса:  97%|\u001B[92m█████████▋\u001B[0m| 97/100 [00:30<00:00,  3.57it/s]"
     ]
    },
    {
     "name": "stdout",
     "output_type": "stream",
     "text": [
      "Начало симуляции с количеством шагов: 100\n"
     ]
    },
    {
     "name": "stderr",
     "output_type": "stream",
     "text": [
      "Cимуляция процесса: 100%|\u001B[92m██████████\u001B[0m| 100/100 [00:31<00:00,  3.21it/s]\n",
      "Cимуляция процесса:  11%|\u001B[92m█         \u001B[0m| 11/100 [00:03<00:25,  3.44it/s]"
     ]
    },
    {
     "name": "stdout",
     "output_type": "stream",
     "text": [
      "Начало симуляции с количеством шагов: 100\n"
     ]
    },
    {
     "name": "stderr",
     "output_type": "stream",
     "text": [
      "Cимуляция процесса: 100%|\u001B[92m██████████\u001B[0m| 100/100 [00:31<00:00,  3.21it/s]\n",
      "Cимуляция процесса:   0%|\u001B[92m          \u001B[0m| 0/100 [00:00<?, ?it/s]"
     ]
    },
    {
     "name": "stdout",
     "output_type": "stream",
     "text": [
      "Начало симуляции с количеством шагов: 100\n"
     ]
    },
    {
     "name": "stderr",
     "output_type": "stream",
     "text": [
      "Cимуляция процесса: 100%|\u001B[92m██████████\u001B[0m| 100/100 [00:31<00:00,  3.21it/s]\n",
      "Cимуляция процесса:   0%|\u001B[92m          \u001B[0m| 0/100 [00:00<?, ?it/s]"
     ]
    },
    {
     "name": "stdout",
     "output_type": "stream",
     "text": [
      "Начало симуляции с количеством шагов: 100\n"
     ]
    },
    {
     "name": "stderr",
     "output_type": "stream",
     "text": [
      "Cимуляция процесса: 100%|\u001B[92m██████████\u001B[0m| 100/100 [00:28<00:00,  3.50it/s]\n",
      "Cимуляция процесса:  91%|\u001B[92m█████████ \u001B[0m| 91/100 [00:25<00:02,  3.91it/s]"
     ]
    },
    {
     "name": "stdout",
     "output_type": "stream",
     "text": [
      "Начало симуляции с количеством шагов: 100\n"
     ]
    },
    {
     "name": "stderr",
     "output_type": "stream",
     "text": [
      "Cимуляция процесса: 100%|\u001B[92m██████████\u001B[0m| 100/100 [00:28<00:00,  3.49it/s]\n",
      "Cимуляция процесса:  92%|\u001B[92m█████████▏\u001B[0m| 92/100 [00:26<00:02,  3.89it/s]"
     ]
    },
    {
     "name": "stdout",
     "output_type": "stream",
     "text": [
      "Начало симуляции с количеством шагов: 100\n"
     ]
    },
    {
     "name": "stderr",
     "output_type": "stream",
     "text": [
      "Cимуляция процесса: 100%|\u001B[92m██████████\u001B[0m| 100/100 [00:28<00:00,  3.54it/s]\n",
      "Cимуляция процесса:  10%|\u001B[92m█         \u001B[0m| 10/100 [00:02<00:23,  3.87it/s]"
     ]
    },
    {
     "name": "stdout",
     "output_type": "stream",
     "text": [
      "Начало симуляции с количеством шагов: 100\n"
     ]
    },
    {
     "name": "stderr",
     "output_type": "stream",
     "text": [
      "Cимуляция процесса: 100%|\u001B[92m██████████\u001B[0m| 100/100 [00:28<00:00,  3.45it/s]\n",
      "Cимуляция процесса: 100%|\u001B[92m██████████\u001B[0m| 100/100 [00:28<00:00,  3.50it/s]\n",
      "Cимуляция процесса:  12%|\u001B[92m█▏        \u001B[0m| 12/100 [00:03<00:30,  2.86it/s]"
     ]
    },
    {
     "name": "stdout",
     "output_type": "stream",
     "text": [
      "Начало симуляции с количеством шагов: 100\n",
      "Начало симуляции с количеством шагов: 100\n"
     ]
    },
    {
     "name": "stderr",
     "output_type": "stream",
     "text": [
      "Cимуляция процесса: 100%|\u001B[92m██████████\u001B[0m| 100/100 [00:28<00:00,  3.46it/s]\n",
      "Cимуляция процесса:  16%|\u001B[92m█▌        \u001B[0m| 16/100 [00:04<00:26,  3.22it/s]"
     ]
    },
    {
     "name": "stdout",
     "output_type": "stream",
     "text": [
      "Начало симуляции с количеством шагов: 100\n"
     ]
    },
    {
     "name": "stderr",
     "output_type": "stream",
     "text": [
      "Cимуляция процесса: 100%|\u001B[92m██████████\u001B[0m| 100/100 [00:30<00:00,  3.32it/s]\n",
      "Cимуляция процесса:  86%|\u001B[92m████████▌ \u001B[0m| 86/100 [00:26<00:03,  3.54it/s]"
     ]
    },
    {
     "name": "stdout",
     "output_type": "stream",
     "text": [
      "Начало симуляции с количеством шагов: 100\n"
     ]
    },
    {
     "name": "stderr",
     "output_type": "stream",
     "text": [
      "Cимуляция процесса: 100%|\u001B[92m██████████\u001B[0m| 100/100 [00:30<00:00,  3.30it/s]\n",
      "Cимуляция процесса:  82%|\u001B[92m████████▏ \u001B[0m| 82/100 [00:25<00:06,  3.00it/s]"
     ]
    },
    {
     "name": "stdout",
     "output_type": "stream",
     "text": [
      "Начало симуляции с количеством шагов: 100\n"
     ]
    },
    {
     "name": "stderr",
     "output_type": "stream",
     "text": [
      "Cимуляция процесса: 100%|\u001B[92m██████████\u001B[0m| 100/100 [00:30<00:00,  3.26it/s]\n",
      "Cимуляция процесса:  95%|\u001B[92m█████████▌\u001B[0m| 95/100 [00:29<00:01,  3.30it/s]"
     ]
    },
    {
     "name": "stdout",
     "output_type": "stream",
     "text": [
      "Начало симуляции с количеством шагов: 100\n"
     ]
    },
    {
     "name": "stderr",
     "output_type": "stream",
     "text": [
      "Cимуляция процесса: 100%|\u001B[92m██████████\u001B[0m| 100/100 [00:30<00:00,  3.24it/s]\n",
      "Cимуляция процесса:  15%|\u001B[92m█▌        \u001B[0m| 15/100 [00:04<00:23,  3.61it/s]"
     ]
    },
    {
     "name": "stdout",
     "output_type": "stream",
     "text": [
      "Начало симуляции с количеством шагов: 100\n"
     ]
    },
    {
     "name": "stderr",
     "output_type": "stream",
     "text": [
      "Cимуляция процесса: 100%|\u001B[92m██████████\u001B[0m| 100/100 [00:31<00:00,  3.20it/s]\n",
      "Cимуляция процесса:  16%|\u001B[92m█▌        \u001B[0m| 16/100 [00:05<00:24,  3.41it/s]"
     ]
    },
    {
     "name": "stdout",
     "output_type": "stream",
     "text": [
      "Начало симуляции с количеством шагов: 100\n"
     ]
    },
    {
     "name": "stderr",
     "output_type": "stream",
     "text": [
      "Cимуляция процесса: 100%|\u001B[92m██████████\u001B[0m| 100/100 [00:31<00:00,  3.21it/s]\n",
      "Cимуляция процесса:   5%|\u001B[92m▌         \u001B[0m| 5/100 [00:01<00:27,  3.46it/s]]"
     ]
    },
    {
     "name": "stdout",
     "output_type": "stream",
     "text": [
      "Начало симуляции с количеством шагов: 100\n"
     ]
    },
    {
     "name": "stderr",
     "output_type": "stream",
     "text": [
      "Cимуляция процесса: 100%|\u001B[92m██████████\u001B[0m| 100/100 [00:30<00:00,  3.23it/s]\n",
      "Cимуляция процесса:  99%|\u001B[92m█████████▉\u001B[0m| 99/100 [00:30<00:00,  3.36it/s]"
     ]
    },
    {
     "name": "stdout",
     "output_type": "stream",
     "text": [
      "Начало симуляции с количеством шагов: 100\n"
     ]
    },
    {
     "name": "stderr",
     "output_type": "stream",
     "text": [
      "Cимуляция процесса: 100%|\u001B[92m██████████\u001B[0m| 100/100 [00:30<00:00,  3.24it/s]\n",
      "Cимуляция процесса:  92%|\u001B[92m█████████▏\u001B[0m| 92/100 [00:28<00:02,  3.40it/s]"
     ]
    },
    {
     "name": "stdout",
     "output_type": "stream",
     "text": [
      "Начало симуляции с количеством шагов: 100\n"
     ]
    },
    {
     "name": "stderr",
     "output_type": "stream",
     "text": [
      "Cимуляция процесса: 100%|\u001B[92m██████████\u001B[0m| 100/100 [00:30<00:00,  3.23it/s]\n",
      "Cимуляция процесса:  96%|\u001B[92m█████████▌\u001B[0m| 96/100 [00:29<00:01,  3.20it/s]"
     ]
    },
    {
     "name": "stdout",
     "output_type": "stream",
     "text": [
      "Начало симуляции с количеством шагов: 100\n"
     ]
    },
    {
     "name": "stderr",
     "output_type": "stream",
     "text": [
      "Cимуляция процесса: 100%|\u001B[92m██████████\u001B[0m| 100/100 [00:31<00:00,  3.19it/s]\n",
      "Cимуляция процесса:  14%|\u001B[92m█▍        \u001B[0m| 14/100 [00:04<00:32,  2.63it/s]"
     ]
    },
    {
     "name": "stdout",
     "output_type": "stream",
     "text": [
      "Начало симуляции с количеством шагов: 100\n"
     ]
    },
    {
     "name": "stderr",
     "output_type": "stream",
     "text": [
      "Cимуляция процесса: 100%|\u001B[92m██████████\u001B[0m| 100/100 [00:31<00:00,  3.14it/s]\n",
      "Cимуляция процесса:   2%|\u001B[92m▏         \u001B[0m| 2/100 [00:00<00:43,  2.28it/s]]"
     ]
    },
    {
     "name": "stdout",
     "output_type": "stream",
     "text": [
      "Начало симуляции с количеством шагов: 100\n"
     ]
    },
    {
     "name": "stderr",
     "output_type": "stream",
     "text": [
      "Cимуляция процесса: 100%|\u001B[92m██████████\u001B[0m| 100/100 [00:32<00:00,  3.10it/s]\n",
      "Ход процесса:  90%|█████████ | 54/60 [04:40<00:16,  2.80s/it]"
     ]
    },
    {
     "name": "stdout",
     "output_type": "stream",
     "text": [
      "Начало симуляции с количеством шагов: 100\n"
     ]
    },
    {
     "name": "stderr",
     "output_type": "stream",
     "text": [
      "Cимуляция процесса: 100%|\u001B[92m██████████\u001B[0m| 100/100 [00:36<00:00,  2.75it/s]\n",
      "Cимуляция процесса: 100%|\u001B[92m██████████\u001B[0m| 100/100 [00:36<00:00,  2.76it/s]\n",
      "Cимуляция процесса: 100%|\u001B[92m██████████\u001B[0m| 100/100 [00:36<00:00,  2.78it/s]\n",
      "Cимуляция процесса: 100%|\u001B[92m██████████\u001B[0m| 100/100 [00:35<00:00,  2.85it/s]\n",
      "Cимуляция процесса: 100%|\u001B[92m██████████\u001B[0m| 100/100 [00:35<00:00,  2.86it/s]\n",
      "Cимуляция процесса: 100%|\u001B[92m██████████\u001B[0m| 100/100 [00:33<00:00,  2.95it/s]\n",
      "Ход процесса: 100%|██████████| 60/60 [05:14<00:00,  5.24s/it]\n"
     ]
    }
   ],
   "execution_count": 91
  },
  {
   "metadata": {
    "ExecuteTime": {
     "end_time": "2024-06-05T23:04:10.762225Z",
     "start_time": "2024-06-05T23:04:10.699652Z"
    }
   },
   "cell_type": "code",
   "source": "save_statistics(temperatures, heat_cap, avg_energies, 3 * 3 * 3, filename='statistics.csv')",
   "id": "68d526e35b02caf4",
   "outputs": [],
   "execution_count": 92
  },
  {
   "metadata": {
    "ExecuteTime": {
     "end_time": "2024-06-05T23:04:10.998452Z",
     "start_time": "2024-06-05T23:04:10.763060Z"
    }
   },
   "cell_type": "code",
   "source": "plot_heat_capacity_vs_temperature(temperatures, heat_cap)",
   "id": "1d08f90db29a06a1",
   "outputs": [
    {
     "data": {
      "text/plain": [
       "<Figure size 720x432 with 1 Axes>"
      ],
      "image/png": "[encoded data removed]"
     },
     "metadata": {
      "needs_background": "light"
     },
     "output_type": "display_data"
    }
   ],
   "execution_count": 93
  },
  {
   "metadata": {
    "ExecuteTime": {
     "end_time": "2024-06-05T23:04:11.100289Z",
     "start_time": "2024-06-05T23:04:10.999887Z"
    }
   },
   "cell_type": "code",
   "source": "plot_energy_vs_temperature(temperatures, avg_energies)",
   "id": "91439bf6d6e32ba5",
   "outputs": [
    {
     "data": {
      "text/plain": [
       "<Figure size 720x432 with 1 Axes>"
      ],
      "image/png": "[encoded data removed]"
     },
     "metadata": {
      "needs_background": "light"
     },
     "output_type": "display_data"
    }
   ],
   "execution_count": 94
  },
  {
   "metadata": {},
   "cell_type": "code",
   "outputs": [],
   "execution_count": null,
   "source": "",
   "id": "3f3fa71e9a4f273"
  }
 ],
 "metadata": {
  "kernelspec": {
   "display_name": "Python 3",
   "language": "python",
   "name": "python3"
  },
  "language_info": {
   "codemirror_mode": {
    "name": "ipython",
    "version": 2
   },
   "file_extension": ".py",
   "mimetype": "text/x-python",
   "name": "python",
   "nbconvert_exporter": "python",
   "pygments_lexer": "ipython2",
   "version": "2.7.6"
  }
 },
 "nbformat": 4,
 "nbformat_minor": 5
}
