{
 "cells": [
  {
   "metadata": {
    "ExecuteTime": {
     "end_time": "2024-06-04T13:08:28.423572Z",
     "start_time": "2024-06-04T13:08:28.337405Z"
    }
   },
   "cell_type": "code",
   "source": [
    "%load_ext autoreload\n",
    "%autoreload 2"
   ],
   "id": "e0f448c74f0688d6",
   "outputs": [
    {
     "name": "stdout",
     "output_type": "stream",
     "text": [
      "The autoreload extension is already loaded. To reload it, use:\n",
      "  %reload_ext autoreload\n"
     ]
    }
   ],
   "execution_count": 40
  },
  {
   "metadata": {
    "ExecuteTime": {
     "end_time": "2024-06-04T13:11:06.050855Z",
     "start_time": "2024-06-04T13:11:05.967139Z"
    }
   },
   "cell_type": "code",
   "source": "from protein_model import ProteinModel",
   "id": "f9a1fe23c6fd6c74",
   "outputs": [],
   "execution_count": 43
  },
  {
   "metadata": {
    "ExecuteTime": {
     "end_time": "2024-06-04T13:15:47.810310Z",
     "start_time": "2024-06-04T13:15:47.128663Z"
    }
   },
   "cell_type": "code",
   "source": [
    "# Создание экземпляра модели и запуск симуляции\n",
    "model = ProteinModel(2)\n",
    "model.run_simulation(num_steps=5)"
   ],
   "id": "9e0673996f46fb70",
   "outputs": [
    {
     "name": "stdout",
     "output_type": "stream",
     "text": [
      "Начало симуляции с количеством шагов: 5\n",
      "Видео сохранено в videos/simulation_2024-06-04_16-15-47.mp4\n"
     ]
    }
   ],
   "execution_count": 46
  },
  {
   "metadata": {
    "ExecuteTime": {
     "end_time": "2024-06-04T13:15:47.814875Z",
     "start_time": "2024-06-04T13:15:47.812197Z"
    }
   },
   "cell_type": "code",
   "source": "",
   "id": "60483a37d6fbed5a",
   "outputs": [],
   "execution_count": 46
  },
  {
   "metadata": {},
   "cell_type": "code",
   "outputs": [],
   "execution_count": null,
   "source": "",
   "id": "c6eb25f954000f93"
  }
 ],
 "metadata": {
  "kernelspec": {
   "display_name": "Python 3",
   "language": "python",
   "name": "python3"
  },
  "language_info": {
   "codemirror_mode": {
    "name": "ipython",
    "version": 2
   },
   "file_extension": ".py",
   "mimetype": "text/x-python",
   "name": "python",
   "nbconvert_exporter": "python",
   "pygments_lexer": "ipython2",
   "version": "2.7.6"
  }
 },
 "nbformat": 4,
 "nbformat_minor": 5
}
