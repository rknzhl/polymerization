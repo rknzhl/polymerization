{
 "cells": [
  {
   "metadata": {
    "ExecuteTime": {
     "end_time": "2024-06-04T12:27:16.274453Z",
     "start_time": "2024-06-04T12:27:16.176133Z"
    }
   },
   "cell_type": "code",
   "source": [
    "%load_ext autoreload\n",
    "%autoreload 2"
   ],
   "id": "e0f448c74f0688d6",
   "outputs": [
    {
     "name": "stdout",
     "output_type": "stream",
     "text": [
      "The autoreload extension is already loaded. To reload it, use:\n",
      "  %reload_ext autoreload\n"
     ]
    }
   ],
   "execution_count": 20
  },
  {
   "metadata": {
    "ExecuteTime": {
     "end_time": "2024-06-04T12:29:16.144643Z",
     "start_time": "2024-06-04T12:29:16.107610Z"
    }
   },
   "cell_type": "code",
   "source": "from protein_model import ProteinModel",
   "id": "f9a1fe23c6fd6c74",
   "outputs": [],
   "execution_count": 25
  },
  {
   "metadata": {
    "ExecuteTime": {
     "end_time": "2024-06-04T12:33:14.188101Z",
     "start_time": "2024-06-04T12:29:16.443436Z"
    }
   },
   "cell_type": "code",
   "source": [
    "# Создание экземпляра модели и запуск симуляции\n",
    "model = ProteinModel(4)\n",
    "model.run_simulation(num_steps=200)"
   ],
   "id": "9e0673996f46fb70",
   "outputs": [
    {
     "name": "stdout",
     "output_type": "stream",
     "text": [
      "Начало симуляции с количеством шагов: 200\n",
      "Видео сохранено в videos/simulation_2024-06-04_15-33-13.mp4\n"
     ]
    }
   ],
   "execution_count": 26
  },
  {
   "metadata": {},
   "cell_type": "code",
   "source": "",
   "id": "60483a37d6fbed5a",
   "outputs": [],
   "execution_count": null
  }
 ],
 "metadata": {
  "kernelspec": {
   "display_name": "Python 3",
   "language": "python",
   "name": "python3"
  },
  "language_info": {
   "codemirror_mode": {
    "name": "ipython",
    "version": 2
   },
   "file_extension": ".py",
   "mimetype": "text/x-python",
   "name": "python",
   "nbconvert_exporter": "python",
   "pygments_lexer": "ipython2",
   "version": "2.7.6"
  }
 },
 "nbformat": 4,
 "nbformat_minor": 5
}
