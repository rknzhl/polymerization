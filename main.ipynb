{
 "cells": [
  {
   "cell_type": "code",
   "id": "initial_id",
   "metadata": {
    "collapsed": true,
    "ExecuteTime": {
     "end_time": "2024-04-30T19:18:28.065157Z",
     "start_time": "2024-04-30T19:18:18.114809Z"
    }
   },
   "source": "import Protein",
   "outputs": [],
   "execution_count": 1
  },
  {
   "metadata": {
    "ExecuteTime": {
     "end_time": "2024-04-30T19:18:54.747295Z",
     "start_time": "2024-04-30T19:18:47.254236Z"
    }
   },
   "cell_type": "code",
   "source": [
    "from Protein import ProteinModel\n",
    "\n",
    "model = ProteinModel(num_beads=10)\n",
    "model.run_simulation()\n",
    "positions = model.get_positions()\n",
    "print(positions)\n"
   ],
   "id": "7d55d11a80d2e7be",
   "outputs": [
    {
     "name": "stdout",
     "output_type": "stream",
     "text": [
      "[[  5.13794669   3.95620564  -0.7256713 ]\n",
      " [  9.9368298   -4.02289551   2.96511795]\n",
      " [ 10.05615218  -6.81205908  -0.62534404]\n",
      " [ -0.86941936  12.67550664   8.48878025]\n",
      " [ -1.29203682 -12.24273747 -24.74590361]\n",
      " [-10.36131683  -6.8491544   20.93082705]\n",
      " [  3.76649372  -2.17171262  22.92348791]\n",
      " [  4.19351812   0.59641156 -11.54639918]\n",
      " [ -2.31487685 -12.08273176 -24.34730993]\n",
      " [  0.51641441   2.37582626  -7.17403911]]\n"
     ]
    }
   ],
   "execution_count": 3
  },
  {
   "metadata": {
    "ExecuteTime": {
     "end_time": "2024-04-30T19:40:40.870642Z",
     "start_time": "2024-04-30T19:40:40.859768Z"
    }
   },
   "cell_type": "code",
   "source": [
    "model = ProteinModel(4)\n",
    "model.run_simulation(num_steps=50)"
   ],
   "id": "9e0673996f46fb70",
   "outputs": [],
   "execution_count": 6
  },
  {
   "metadata": {},
   "cell_type": "code",
   "outputs": [],
   "execution_count": null,
   "source": "",
   "id": "60483a37d6fbed5a"
  }
 ],
 "metadata": {
  "kernelspec": {
   "display_name": "Python 3",
   "language": "python",
   "name": "python3"
  },
  "language_info": {
   "codemirror_mode": {
    "name": "ipython",
    "version": 2
   },
   "file_extension": ".py",
   "mimetype": "text/x-python",
   "name": "python",
   "nbconvert_exporter": "python",
   "pygments_lexer": "ipython2",
   "version": "2.7.6"
  }
 },
 "nbformat": 4,
 "nbformat_minor": 5
}
