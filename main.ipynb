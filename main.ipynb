{
 "cells": [
  {
   "metadata": {
    "ExecuteTime": {
     "end_time": "2024-06-04T13:33:52.957130Z",
     "start_time": "2024-06-04T13:33:52.867081Z"
    }
   },
   "cell_type": "code",
   "source": [
    "%load_ext autoreload\n",
    "%autoreload 2"
   ],
   "id": "e0f448c74f0688d6",
   "outputs": [
    {
     "name": "stdout",
     "output_type": "stream",
     "text": [
      "The autoreload extension is already loaded. To reload it, use:\n",
      "  %reload_ext autoreload\n"
     ]
    }
   ],
   "execution_count": 58
  },
  {
   "metadata": {
    "ExecuteTime": {
     "end_time": "2024-06-04T13:33:53.033157Z",
     "start_time": "2024-06-04T13:33:53.021196Z"
    }
   },
   "cell_type": "code",
   "source": "from protein_model import ProteinModel",
   "id": "f9a1fe23c6fd6c74",
   "outputs": [],
   "execution_count": 59
  },
  {
   "metadata": {
    "ExecuteTime": {
     "end_time": "2024-06-04T13:36:31.191512Z",
     "start_time": "2024-06-04T13:35:29.133699Z"
    }
   },
   "cell_type": "code",
   "source": [
    "# Создание экземпляра модели и запуск симуляции\n",
    "model = ProteinModel(4)\n",
    "model.run_simulation(num_steps=50)"
   ],
   "id": "9e0673996f46fb70",
   "outputs": [
    {
     "name": "stdout",
     "output_type": "stream",
     "text": [
      "Начало симуляции с количеством шагов: 50\n",
      "Видео сохранено в videos/simulation_2024-06-04_16-36-30.mp4\n"
     ]
    }
   ],
   "execution_count": 61
  },
  {
   "metadata": {
    "ExecuteTime": {
     "end_time": "2024-06-04T13:15:47.814875Z",
     "start_time": "2024-06-04T13:15:47.812197Z"
    }
   },
   "cell_type": "code",
   "source": "",
   "id": "60483a37d6fbed5a",
   "outputs": [],
   "execution_count": 46
  },
  {
   "metadata": {},
   "cell_type": "code",
   "outputs": [],
   "execution_count": null,
   "source": "",
   "id": "c6eb25f954000f93"
  }
 ],
 "metadata": {
  "kernelspec": {
   "display_name": "Python 3",
   "language": "python",
   "name": "python3"
  },
  "language_info": {
   "codemirror_mode": {
    "name": "ipython",
    "version": 2
   },
   "file_extension": ".py",
   "mimetype": "text/x-python",
   "name": "python",
   "nbconvert_exporter": "python",
   "pygments_lexer": "ipython2",
   "version": "2.7.6"
  }
 },
 "nbformat": 4,
 "nbformat_minor": 5
}
