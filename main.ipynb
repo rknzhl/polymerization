{
 "cells": [
  {
   "metadata": {},
   "cell_type": "markdown",
   "source": "# Белки",
   "id": "4218055b1d760be5"
  },
  {
   "metadata": {},
   "cell_type": "markdown",
   "source": "## настройка зависимостей",
   "id": "8735b0268aec7768"
  },
  {
   "metadata": {
    "ExecuteTime": {
     "end_time": "2024-06-04T22:10:00.422354Z",
     "start_time": "2024-06-04T22:10:00.289209Z"
    }
   },
   "cell_type": "code",
   "source": [
    "%load_ext autoreload\n",
    "%autoreload 2"
   ],
   "id": "e0f448c74f0688d6",
   "outputs": [
    {
     "name": "stdout",
     "output_type": "stream",
     "text": [
      "The autoreload extension is already loaded. To reload it, use:\n",
      "  %reload_ext autoreload\n"
     ]
    }
   ],
   "execution_count": 12
  },
  {
   "metadata": {
    "ExecuteTime": {
     "end_time": "2024-06-04T22:10:00.752373Z",
     "start_time": "2024-06-04T22:10:00.738427Z"
    }
   },
   "cell_type": "code",
   "source": "from protein_model import ProteinModel",
   "id": "f9a1fe23c6fd6c74",
   "outputs": [],
   "execution_count": 13
  },
  {
   "metadata": {},
   "cell_type": "markdown",
   "source": "## Симуляция",
   "id": "16b3fd2e5096dcb1"
  },
  {
   "metadata": {
    "ExecuteTime": {
     "end_time": "2024-06-04T22:23:20.284894Z",
     "start_time": "2024-06-04T22:22:49.207243Z"
    }
   },
   "cell_type": "code",
   "source": [
    "# Создание экземпляра модели и запуск симуляции\n",
    "model = ProteinModel(2)\n",
    "model.run_simulation(num_steps=100)\n",
    "model.plot_energy()"
   ],
   "id": "9e0673996f46fb70",
   "outputs": [
    {
     "name": "stderr",
     "output_type": "stream",
     "text": [
      "[autoreload of decorator failed: Traceback (most recent call last):\n",
      "  File \"/Users/rknzhl/opt/anaconda3/lib/python3.9/site-packages/IPython/extensions/autoreload.py\", line 257, in check\n",
      "    superreload(m, reload, self.old_objects)\n",
      "  File \"/Users/rknzhl/opt/anaconda3/lib/python3.9/site-packages/IPython/extensions/autoreload.py\", line 480, in superreload\n",
      "    update_generic(old_obj, new_obj)\n",
      "  File \"/Users/rknzhl/opt/anaconda3/lib/python3.9/site-packages/IPython/extensions/autoreload.py\", line 377, in update_generic\n",
      "    update(a, b)\n",
      "  File \"/Users/rknzhl/opt/anaconda3/lib/python3.9/site-packages/IPython/extensions/autoreload.py\", line 289, in update_function\n",
      "    setattr(old, name, getattr(new, name))\n",
      "ValueError: ContextManager() requires a code object with 3 free vars, not 0\n",
      "]\n",
      "[autoreload of protein_model_simulation failed: Traceback (most recent call last):\n",
      "  File \"/Users/rknzhl/opt/anaconda3/lib/python3.9/site-packages/IPython/extensions/autoreload.py\", line 257, in check\n",
      "    superreload(m, reload, self.old_objects)\n",
      "  File \"/Users/rknzhl/opt/anaconda3/lib/python3.9/site-packages/IPython/extensions/autoreload.py\", line 455, in superreload\n",
      "    module = reload(module)\n",
      "  File \"/Users/rknzhl/opt/anaconda3/lib/python3.9/importlib/__init__.py\", line 169, in reload\n",
      "    _bootstrap._exec(spec, module)\n",
      "  File \"<frozen importlib._bootstrap>\", line 613, in _exec\n",
      "  File \"<frozen importlib._bootstrap_external>\", line 850, in exec_module\n",
      "  File \"<frozen importlib._bootstrap>\", line 228, in _call_with_frames_removed\n",
      "  File \"/Users/rknzhl/Desktop/proteins_modeling/pythonProject/protein_model_simulation.py\", line 3, in <module>\n",
      "    import moviepy.editor as mpy\n",
      "  File \"/Users/rknzhl/opt/anaconda3/lib/python3.9/site-packages/moviepy/editor.py\", line 110, in <module>\n",
      "    from moviepy.video.io.preview import show, preview\n",
      "  File \"/Users/rknzhl/opt/anaconda3/lib/python3.9/site-packages/moviepy/video/io/preview.py\", line 6, in <module>\n",
      "    import pygame as pg\n",
      "  File \"/Users/rknzhl/opt/anaconda3/lib/python3.9/site-packages/pygame/__init__.py\", line 136, in <module>\n",
      "    import pygame.image\n",
      "KeyboardInterrupt\n",
      "]\n"
     ]
    },
    {
     "name": "stdout",
     "output_type": "stream",
     "text": [
      "The history saving thread hit an unexpected error (NameError(\"name 'fix' is not defined\")).History will not be written to the database.\n",
      "Начало симуляции с количеством шагов: 100\n"
     ]
    },
    {
     "name": "stderr",
     "output_type": "stream",
     "text": [
      "Cимуляция процесса: 100%|\u001B[92m██████████\u001B[0m| 100/100 [00:05<00:00, 19.79it/s]\n"
     ]
    },
    {
     "name": "stdout",
     "output_type": "stream",
     "text": [
      "Видео сохранено в videos/simulation_2024-06-05_01-23-19.mp4\n"
     ]
    },
    {
     "ename": "NameError",
     "evalue": "name 'fix' is not defined",
     "output_type": "error",
     "traceback": [
      "\u001B[0;31m---------------------------------------------------------------------------\u001B[0m",
      "\u001B[0;31mNameError\u001B[0m                                 Traceback (most recent call last)",
      "Input \u001B[0;32mIn [22]\u001B[0m, in \u001B[0;36m<cell line: 4>\u001B[0;34m()\u001B[0m\n\u001B[1;32m      2\u001B[0m model \u001B[38;5;241m=\u001B[39m ProteinModel(\u001B[38;5;241m2\u001B[39m)\n\u001B[1;32m      3\u001B[0m model\u001B[38;5;241m.\u001B[39mrun_simulation(num_steps\u001B[38;5;241m=\u001B[39m\u001B[38;5;241m100\u001B[39m)\n\u001B[0;32m----> 4\u001B[0m \u001B[43mmodel\u001B[49m\u001B[38;5;241;43m.\u001B[39;49m\u001B[43mplot_energy\u001B[49m\u001B[43m(\u001B[49m\u001B[43m)\u001B[49m\n",
      "File \u001B[0;32m~/Desktop/proteins_modeling/pythonProject/protein_model_statistics.py:24\u001B[0m, in \u001B[0;36mProteinModelStatisticsMixin.plot_energy\u001B[0;34m(self)\u001B[0m\n\u001B[1;32m     22\u001B[0m plt\u001B[38;5;241m.\u001B[39mlegend()\n\u001B[1;32m     23\u001B[0m plt\u001B[38;5;241m.\u001B[39mgrid(\u001B[38;5;28;01mTrue\u001B[39;00m)\n\u001B[0;32m---> 24\u001B[0m \u001B[43mplt\u001B[49m\u001B[38;5;241;43m.\u001B[39;49m\u001B[43mshow\u001B[49m\u001B[43m(\u001B[49m\u001B[43m)\u001B[49m\n",
      "File \u001B[0;32m~/opt/anaconda3/lib/python3.9/site-packages/matplotlib/pyplot.py:368\u001B[0m, in \u001B[0;36mshow\u001B[0;34m(*args, **kwargs)\u001B[0m\n\u001B[1;32m    324\u001B[0m \u001B[38;5;124;03m\"\"\"\u001B[39;00m\n\u001B[1;32m    325\u001B[0m \u001B[38;5;124;03mDisplay all open figures.\u001B[39;00m\n\u001B[1;32m    326\u001B[0m \n\u001B[0;32m   (...)\u001B[0m\n\u001B[1;32m    365\u001B[0m \u001B[38;5;124;03mexplicitly there.\u001B[39;00m\n\u001B[1;32m    366\u001B[0m \u001B[38;5;124;03m\"\"\"\u001B[39;00m\n\u001B[1;32m    367\u001B[0m _warn_if_gui_out_of_main_thread()\n\u001B[0;32m--> 368\u001B[0m \u001B[38;5;28;01mreturn\u001B[39;00m \u001B[43m_backend_mod\u001B[49m\u001B[38;5;241;43m.\u001B[39;49m\u001B[43mshow\u001B[49m\u001B[43m(\u001B[49m\u001B[38;5;241;43m*\u001B[39;49m\u001B[43margs\u001B[49m\u001B[43m,\u001B[49m\u001B[43m \u001B[49m\u001B[38;5;241;43m*\u001B[39;49m\u001B[38;5;241;43m*\u001B[39;49m\u001B[43mkwargs\u001B[49m\u001B[43m)\u001B[49m\n",
      "File \u001B[0;32m~/opt/anaconda3/lib/python3.9/site-packages/matplotlib_inline/backend_inline.py:41\u001B[0m, in \u001B[0;36mshow\u001B[0;34m(close, block)\u001B[0m\n\u001B[1;32m     39\u001B[0m \u001B[38;5;28;01mtry\u001B[39;00m:\n\u001B[1;32m     40\u001B[0m     \u001B[38;5;28;01mfor\u001B[39;00m figure_manager \u001B[38;5;129;01min\u001B[39;00m Gcf\u001B[38;5;241m.\u001B[39mget_all_fig_managers():\n\u001B[0;32m---> 41\u001B[0m         \u001B[43mdisplay\u001B[49m\u001B[43m(\u001B[49m\n\u001B[1;32m     42\u001B[0m \u001B[43m            \u001B[49m\u001B[43mfigure_manager\u001B[49m\u001B[38;5;241;43m.\u001B[39;49m\u001B[43mcanvas\u001B[49m\u001B[38;5;241;43m.\u001B[39;49m\u001B[43mfigure\u001B[49m\u001B[43m,\u001B[49m\n\u001B[1;32m     43\u001B[0m \u001B[43m            \u001B[49m\u001B[43mmetadata\u001B[49m\u001B[38;5;241;43m=\u001B[39;49m\u001B[43m_fetch_figure_metadata\u001B[49m\u001B[43m(\u001B[49m\u001B[43mfigure_manager\u001B[49m\u001B[38;5;241;43m.\u001B[39;49m\u001B[43mcanvas\u001B[49m\u001B[38;5;241;43m.\u001B[39;49m\u001B[43mfigure\u001B[49m\u001B[43m)\u001B[49m\n\u001B[1;32m     44\u001B[0m \u001B[43m        \u001B[49m\u001B[43m)\u001B[49m\n\u001B[1;32m     45\u001B[0m \u001B[38;5;28;01mfinally\u001B[39;00m:\n\u001B[1;32m     46\u001B[0m     show\u001B[38;5;241m.\u001B[39m_to_draw \u001B[38;5;241m=\u001B[39m []\n",
      "File \u001B[0;32m~/opt/anaconda3/lib/python3.9/site-packages/IPython/core/display_functions.py:298\u001B[0m, in \u001B[0;36mdisplay\u001B[0;34m(include, exclude, metadata, transient, display_id, raw, clear, *objs, **kwargs)\u001B[0m\n\u001B[1;32m    296\u001B[0m     publish_display_data(data\u001B[38;5;241m=\u001B[39mobj, metadata\u001B[38;5;241m=\u001B[39mmetadata, \u001B[38;5;241m*\u001B[39m\u001B[38;5;241m*\u001B[39mkwargs)\n\u001B[1;32m    297\u001B[0m \u001B[38;5;28;01melse\u001B[39;00m:\n\u001B[0;32m--> 298\u001B[0m     format_dict, md_dict \u001B[38;5;241m=\u001B[39m \u001B[38;5;28;43mformat\u001B[39;49m\u001B[43m(\u001B[49m\u001B[43mobj\u001B[49m\u001B[43m,\u001B[49m\u001B[43m \u001B[49m\u001B[43minclude\u001B[49m\u001B[38;5;241;43m=\u001B[39;49m\u001B[43minclude\u001B[49m\u001B[43m,\u001B[49m\u001B[43m \u001B[49m\u001B[43mexclude\u001B[49m\u001B[38;5;241;43m=\u001B[39;49m\u001B[43mexclude\u001B[49m\u001B[43m)\u001B[49m\n\u001B[1;32m    299\u001B[0m     \u001B[38;5;28;01mif\u001B[39;00m \u001B[38;5;129;01mnot\u001B[39;00m format_dict:\n\u001B[1;32m    300\u001B[0m         \u001B[38;5;66;03m# nothing to display (e.g. _ipython_display_ took over)\u001B[39;00m\n\u001B[1;32m    301\u001B[0m         \u001B[38;5;28;01mcontinue\u001B[39;00m\n",
      "File \u001B[0;32m~/opt/anaconda3/lib/python3.9/site-packages/IPython/core/formatters.py:144\u001B[0m, in \u001B[0;36mDisplayFormatter.format\u001B[0;34m(self, obj, include, exclude)\u001B[0m\n\u001B[1;32m    141\u001B[0m format_dict \u001B[38;5;241m=\u001B[39m {}\n\u001B[1;32m    142\u001B[0m md_dict \u001B[38;5;241m=\u001B[39m {}\n\u001B[0;32m--> 144\u001B[0m \u001B[38;5;28;01mif\u001B[39;00m \u001B[38;5;28;43mself\u001B[39;49m\u001B[38;5;241;43m.\u001B[39;49m\u001B[43mipython_display_formatter\u001B[49m\u001B[43m(\u001B[49m\u001B[43mobj\u001B[49m\u001B[43m)\u001B[49m:\n\u001B[1;32m    145\u001B[0m     \u001B[38;5;66;03m# object handled itself, don't proceed\u001B[39;00m\n\u001B[1;32m    146\u001B[0m     \u001B[38;5;28;01mreturn\u001B[39;00m {}, {}\n\u001B[1;32m    148\u001B[0m format_dict, md_dict \u001B[38;5;241m=\u001B[39m \u001B[38;5;28mself\u001B[39m\u001B[38;5;241m.\u001B[39mmimebundle_formatter(obj, include\u001B[38;5;241m=\u001B[39minclude, exclude\u001B[38;5;241m=\u001B[39mexclude)\n",
      "File \u001B[0;32m~/opt/anaconda3/lib/python3.9/site-packages/decorator.py:231\u001B[0m, in \u001B[0;36mfun\u001B[0;34m(*args, **kw)\u001B[0m\n\u001B[1;32m    225\u001B[0m \u001B[38;5;124;03m\"\"\"\u001B[39;00m\n\u001B[1;32m    226\u001B[0m \u001B[38;5;124;03mdecorate(func, caller) decorates a function using a caller.\u001B[39;00m\n\u001B[1;32m    227\u001B[0m \u001B[38;5;124;03mIf the caller is a generator function, the resulting function\u001B[39;00m\n\u001B[1;32m    228\u001B[0m \u001B[38;5;124;03mwill be a generator function.\u001B[39;00m\n\u001B[1;32m    229\u001B[0m \u001B[38;5;124;03m\"\"\"\u001B[39;00m\n\u001B[1;32m    230\u001B[0m evaldict \u001B[38;5;241m=\u001B[39m \u001B[38;5;28mdict\u001B[39m(_call_\u001B[38;5;241m=\u001B[39mcaller, _func_\u001B[38;5;241m=\u001B[39mfunc)\n\u001B[0;32m--> 231\u001B[0m es \u001B[38;5;241m=\u001B[39m \u001B[38;5;124m'\u001B[39m\u001B[38;5;124m'\u001B[39m\n\u001B[1;32m    232\u001B[0m \u001B[38;5;28;01mfor\u001B[39;00m i, extra \u001B[38;5;129;01min\u001B[39;00m \u001B[38;5;28menumerate\u001B[39m(extras):\n\u001B[1;32m    233\u001B[0m     ex \u001B[38;5;241m=\u001B[39m \u001B[38;5;124m'\u001B[39m\u001B[38;5;124m_e\u001B[39m\u001B[38;5;132;01m%d\u001B[39;00m\u001B[38;5;124m_\u001B[39m\u001B[38;5;124m'\u001B[39m \u001B[38;5;241m%\u001B[39m i\n",
      "\u001B[0;31mNameError\u001B[0m: name 'fix' is not defined"
     ]
    }
   ],
   "execution_count": 22
  },
  {
   "metadata": {
    "ExecuteTime": {
     "end_time": "2024-06-04T22:01:11.336453Z",
     "start_time": "2024-06-04T22:01:11.209473Z"
    }
   },
   "cell_type": "code",
   "source": [
    "av_en, c = model.calculate_statistics()\n",
    "print(av_en, c)"
   ],
   "id": "60483a37d6fbed5a",
   "outputs": [
    {
     "name": "stdout",
     "output_type": "stream",
     "text": [
      "4989124548.10016 1.7910494018940842e+36\n"
     ]
    }
   ],
   "execution_count": 8
  }
 ],
 "metadata": {
  "kernelspec": {
   "display_name": "Python 3",
   "language": "python",
   "name": "python3"
  },
  "language_info": {
   "codemirror_mode": {
    "name": "ipython",
    "version": 2
   },
   "file_extension": ".py",
   "mimetype": "text/x-python",
   "name": "python",
   "nbconvert_exporter": "python",
   "pygments_lexer": "ipython2",
   "version": "2.7.6"
  }
 },
 "nbformat": 4,
 "nbformat_minor": 5
}
