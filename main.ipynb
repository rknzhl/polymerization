{
 "cells": [
  {
   "metadata": {
    "ExecuteTime": {
     "end_time": "2024-06-04T20:52:16.197909Z",
     "start_time": "2024-06-04T20:52:16.163430Z"
    }
   },
   "cell_type": "code",
   "source": [
    "%load_ext autoreload\n",
    "%autoreload 2"
   ],
   "id": "e0f448c74f0688d6",
   "outputs": [
    {
     "name": "stdout",
     "output_type": "stream",
     "text": [
      "The autoreload extension is already loaded. To reload it, use:\n",
      "  %reload_ext autoreload\n"
     ]
    }
   ],
   "execution_count": 70
  },
  {
   "metadata": {
    "ExecuteTime": {
     "end_time": "2024-06-04T20:52:16.727756Z",
     "start_time": "2024-06-04T20:52:16.715719Z"
    }
   },
   "cell_type": "code",
   "source": "from protein_model import ProteinModel",
   "id": "f9a1fe23c6fd6c74",
   "outputs": [],
   "execution_count": 71
  },
  {
   "metadata": {
    "ExecuteTime": {
     "end_time": "2024-06-04T20:52:39.555538Z",
     "start_time": "2024-06-04T20:52:17.267779Z"
    }
   },
   "cell_type": "code",
   "source": [
    "# Создание экземпляра модели и запуск симуляции\n",
    "model = ProteinModel(3)\n",
    "model.run_simulation(num_steps=100)\n",
    "av_en, c = model.calculate_statistics()\n"
   ],
   "id": "9e0673996f46fb70",
   "outputs": [
    {
     "name": "stdout",
     "output_type": "stream",
     "text": [
      "Начало симуляции с количеством шагов: 100\n",
      "Видео сохранено в videos/simulation_2024-06-04_23-52-38.mp4\n"
     ]
    }
   ],
   "execution_count": 72
  },
  {
   "metadata": {
    "ExecuteTime": {
     "end_time": "2024-06-04T20:52:39.583024Z",
     "start_time": "2024-06-04T20:52:39.558292Z"
    }
   },
   "cell_type": "code",
   "source": [
    "print(av_en)\n",
    "print(c)"
   ],
   "id": "60483a37d6fbed5a",
   "outputs": [
    {
     "name": "stdout",
     "output_type": "stream",
     "text": [
      "218155483.90380114\n",
      "3.3353799160024526e+35\n"
     ]
    }
   ],
   "execution_count": 73
  },
  {
   "metadata": {},
   "cell_type": "code",
   "outputs": [],
   "execution_count": null,
   "source": "",
   "id": "c6eb25f954000f93"
  }
 ],
 "metadata": {
  "kernelspec": {
   "display_name": "Python 3",
   "language": "python",
   "name": "python3"
  },
  "language_info": {
   "codemirror_mode": {
    "name": "ipython",
    "version": 2
   },
   "file_extension": ".py",
   "mimetype": "text/x-python",
   "name": "python",
   "nbconvert_exporter": "python",
   "pygments_lexer": "ipython2",
   "version": "2.7.6"
  }
 },
 "nbformat": 4,
 "nbformat_minor": 5
}
